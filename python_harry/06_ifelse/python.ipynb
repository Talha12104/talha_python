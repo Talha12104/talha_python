{
 "cells": [
  {
   "cell_type": "code",
   "execution_count": 8,
   "metadata": {},
   "outputs": [
    {
     "name": "stdout",
     "output_type": "stream",
     "text": [
      "Your Entering invalid age try again and put valid Information\n",
      "Your are below the age of consent\n",
      "Thank for using x,y,z Service\n"
     ]
    }
   ],
   "source": [
    "a = int(input(\"Enter Your Age:\"))\n",
    "if(a>=18):\n",
    "    print(\"You are above the age of consent\")\n",
    "    print(\"Good for you.\")\n",
    "elif(a<=0):\n",
    "    print(\"Your Entering invalid age try again and put valid Information\")\n",
    "    a =int(input(\"Enter Your Correct Age:\"))\n",
    "if(a>=18):\n",
    "    print(\"You are above the age of consent\")\n",
    "    print(\"Good for you.\")\n",
    "elif(a==0):\n",
    "    print(\"You're Entering 0 which is not a valid Age\")\n",
    "    a = int(input(\"Enter your Correct Age:\"))\n",
    "if(a>=18):\n",
    "    print(\"You are above the age of consent\")\n",
    "    print(\"Good for you.\")\n",
    "\n",
    "else: print(\"Your are below the age of consent\")\n",
    "print(\"Thank for using x,y,z Service\")"
   ]
  }
 ],
 "metadata": {
  "kernelspec": {
   "display_name": "Python 3",
   "language": "python",
   "name": "python3"
  },
  "language_info": {
   "codemirror_mode": {
    "name": "ipython",
    "version": 3
   },
   "file_extension": ".py",
   "mimetype": "text/x-python",
   "name": "python",
   "nbconvert_exporter": "python",
   "pygments_lexer": "ipython3",
   "version": "3.13.2"
  }
 },
 "nbformat": 4,
 "nbformat_minor": 2
}
