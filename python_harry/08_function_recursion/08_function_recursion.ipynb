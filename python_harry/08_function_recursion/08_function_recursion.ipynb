{
 "cells": [
  {
   "cell_type": "code",
   "execution_count": 11,
   "metadata": {},
   "outputs": [
    {
     "name": "stdout",
     "output_type": "stream",
     "text": [
      "Enter your first Semester Marks\n",
      "275\n",
      "Thank you\n",
      "Enter your Second Semester Marks\n",
      "286\n",
      "Thank you\n",
      "Enter your Third Semester Marks\n",
      "220\n"
     ]
    }
   ],
   "source": [
    "# a = 18\n",
    "# b = 99\n",
    "# c = 34\n",
    "\n",
    "# average = (a + b + c)/3\n",
    "# print(average)\n",
    "\n",
    "# a = 2\n",
    "# b = 3\n",
    "# c = 8\n",
    "# average = (a + b + c)/3\n",
    "# print(average)\n",
    "\n",
    "def avg():\n",
    "    a = int(input(\"Enter Your Age: \"))\n",
    "    b = int(input(\"Enter Your Age: \"))\n",
    "    c = int(input(\"Enter Your Age: \"))\n",
    "    average = (a + b + c)/3\n",
    "    print(average)\n",
    "\n",
    "print(\"Enter your first Semester Marks\")\n",
    "avg()\n",
    "print(\"Thank you\")\n",
    "print(\"Enter your Second Semester Marks\")\n",
    "avg()\n",
    "print(\"Thank you\")\n",
    "print(\"Enter your Third Semester Marks\")\n",
    "avg()"
   ]
  },
  {
   "cell_type": "code",
   "execution_count": null,
   "metadata": {},
   "outputs": [],
   "source": [
    "def goodDay():\n",
    "    print(\"Good day\")\n",
    "goodDay()"
   ]
  },
  {
   "cell_type": "code",
   "execution_count": 22,
   "metadata": {},
   "outputs": [
    {
     "name": "stdout",
     "output_type": "stream",
     "text": [
      "Good Day,  Talha\n",
      "Have a nice day\n",
      "Thanks\n",
      "Good Day,  Talha\n",
      "Have a nice day\n",
      "Thanks\n",
      "Good Day,  Talha\n",
      "Have a nice day\n",
      "Thanks\n"
     ]
    }
   ],
   "source": [
    "def goodDay(name,ending):\n",
    "    print(\"Good Day, \",name)\n",
    "    print(ending)\n",
    "    return \"Thanks\"\n",
    "\n",
    "a = goodDay(\"Talha\", \"Have a nice day\")\n",
    "print(a)\n",
    "a = goodDay(\"Talha\", \"Have a nice day\")\n",
    "print(a)\n",
    "a = goodDay(\"Talha\", \"Have a nice day\")\n",
    "print(a)"
   ]
  },
  {
   "cell_type": "code",
   "execution_count": null,
   "metadata": {},
   "outputs": [
    {
     "name": "stdout",
     "output_type": "stream",
     "text": [
      "Good Day,  Talha\n",
      "Thanks\n",
      "Thanks\n",
      "Good Day,  Talha\n",
      "Have a nice day\n",
      "Thanks\n",
      "Good Day,  Talha\n",
      "Have a nice day\n",
      "Thanks\n"
     ]
    }
   ],
   "source": [
    "def goodDay(name = str(input(\"Enter Your Age: \")),ending = \"Have a nice day\"):\n",
    "    print(\"Good Day, \",name)\n",
    "    print(ending)\n",
    "    return \"Thanks\"\n",
    "\n",
    "a = goodDay()\n",
    "print(a)\n",
    "a = goodDay()\n",
    "print(a)\n",
    "a = goodDay()\n",
    "print(a)"
   ]
  },
  {
   "cell_type": "code",
   "execution_count": 40,
   "metadata": {},
   "outputs": [
    {
     "name": "stdout",
     "output_type": "stream",
     "text": [
      "The factorial number of this number 40320 \n"
     ]
    }
   ],
   "source": [
    "def factorial(n):\n",
    "    if (n==1 or n ==0):\n",
    "        return 1\n",
    "    return n * factorial(n-1)\n",
    "n = int(input(\"Enter your Number\"))\n",
    "print(f\"The factorial number of this number {factorial(n)} \")\n",
    "\n"
   ]
  }
 ],
 "metadata": {
  "kernelspec": {
   "display_name": "Python 3",
   "language": "python",
   "name": "python3"
  },
  "language_info": {
   "codemirror_mode": {
    "name": "ipython",
    "version": 3
   },
   "file_extension": ".py",
   "mimetype": "text/x-python",
   "name": "python",
   "nbconvert_exporter": "python",
   "pygments_lexer": "ipython3",
   "version": "3.13.2"
  }
 },
 "nbformat": 4,
 "nbformat_minor": 2
}
